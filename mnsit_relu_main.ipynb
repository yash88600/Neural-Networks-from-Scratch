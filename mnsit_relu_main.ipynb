{
 "cells": [
  {
   "cell_type": "markdown",
   "metadata": {},
   "source": [
    "Importing Libraries"
   ]
  },
  {
   "cell_type": "code",
   "execution_count": 1,
   "metadata": {},
   "outputs": [],
   "source": [
    "import numpy as np\n",
    "import pandas as pd\n",
    "data=pd.read_csv('train.csv')"
   ]
  },
  {
   "cell_type": "markdown",
   "metadata": {},
   "source": [
    "Importing Data (MNIST DATA)"
   ]
  },
  {
   "cell_type": "code",
   "execution_count": 2,
   "metadata": {},
   "outputs": [],
   "source": [
    "x1=(data.iloc[:,1:785]).T\n",
    "y1=(data.iloc[:,0])\n",
    "y1=np.array(y1).reshape(1,42000)"
   ]
  },
  {
   "cell_type": "markdown",
   "metadata": {},
   "source": [
    "One Hot Encoding"
   ]
  },
  {
   "cell_type": "code",
   "execution_count": 3,
   "metadata": {},
   "outputs": [],
   "source": [
    "a=np.zeros((10,42000))\n",
    "for i in range(0,42000):\n",
    "    a[y1[0,i],i]=1\n",
    "y1=a\n",
    "m=y1.shape[1]\n",
    "x1=np.array(x1)"
   ]
  },
  {
   "cell_type": "markdown",
   "metadata": {},
   "source": [
    "Accuarcy Function"
   ]
  },
  {
   "cell_type": "code",
   "execution_count": 4,
   "metadata": {},
   "outputs": [],
   "source": [
    "def accu(dlayer,y,m3):\n",
    "    ab=np.array(dlayer.argmax(axis=0)).reshape(1,m3)\n",
    "    m1=0\n",
    "    cd=np.array(y.argmax(axis=0)).reshape(1,m3)\n",
    "    for i in range(0,m3):\n",
    "        if (ab[0,i]==cd[0,i]):\n",
    "            m1=m1+1\n",
    "    return (m1/m3)*100"
   ]
  },
  {
   "cell_type": "markdown",
   "metadata": {},
   "source": [
    "Normalizing Data"
   ]
  },
  {
   "cell_type": "code",
   "execution_count": 5,
   "metadata": {},
   "outputs": [],
   "source": [
    "range1=(np.array(np.max(x1,axis=1)-np.min(x1,axis=1)).reshape(784,1))+1\n",
    "avg1=(1/42000)*(np.sum(x1,axis=1, keepdims=True))\n",
    "x1=(x1-np.dot(avg1,np.ones((1,42000))))/np.dot(range1,np.ones((1,42000)))\n",
    "x=x1[:,0:35000]\n",
    "y=y1[:,0:35000]\n",
    "m2=x.shape[1]"
   ]
  },
  {
   "cell_type": "markdown",
   "metadata": {},
   "source": [
    "Defining Variables & Parameters"
   ]
  },
  {
   "cell_type": "code",
   "execution_count": 6,
   "metadata": {},
   "outputs": [],
   "source": [
    "#defining layers \n",
    "alayer = x\n",
    "blayer = np.zeros((150,m))\n",
    "clayer = np.zeros((50,m))\n",
    "dlayer = np.zeros((10,m))\n",
    "thetaBA = (np.random.randn(150,784))*(np.sqrt(1/100))\n",
    "bBA = np.zeros((150,1))\n",
    "thetaCB = (np.random.randn(50,150))*(np.sqrt(1/50))\n",
    "bCB=np.zeros((50,1))\n",
    "thetaDC=(np.random.randn(10,50))*np.sqrt(1/10)\n",
    "bDC=np.zeros((10,1))\n",
    "\n",
    "beta1=0.9\n",
    "beta2=0.999\n",
    "epsilon=10**(-8)\n",
    "keep_prob=0.9\n",
    "alpha=0.1  # learning rate\n",
    "\n",
    "#Parameters for Adam optimizer\n",
    "vdw1 = np.zeros((thetaDC.shape))\n",
    "sdw1 = np.ones((thetaDC.shape))\n",
    "vdb1 = np.zeros((bDC.shape[0],1))\n",
    "sdb1 = np.ones((bDC.shape[0],1))\n",
    "vdw2 = np.zeros((thetaCB.shape))\n",
    "sdw2 = np.ones((thetaCB.shape))\n",
    "vdb2 = np.zeros((bCB.shape[0],1))\n",
    "sdb2 = np.ones((bCB.shape[0],1))\n",
    "vdw3 = np.zeros((thetaBA.shape))\n",
    "sdw3 = np.ones((thetaBA.shape))\n",
    "vdb3 = np.zeros((bBA.shape[0],1))\n",
    "sdb3 = np.ones((bBA.shape[0],1))"
   ]
  },
  {
   "cell_type": "markdown",
   "metadata": {},
   "source": [
    "# Training "
   ]
  },
  {
   "cell_type": "code",
   "execution_count": 7,
   "metadata": {
    "scrolled": true
   },
   "outputs": [
    {
     "name": "stdout",
     "output_type": "stream",
     "text": [
      " Accuracy : 8.191428571428572  Accuracy : 8.27142857142857  Accuracy : 8.714285714285715  Accuracy : 9.305714285714286  Accuracy : 10.588571428571429  Accuracy : 11.914285714285715  Accuracy : 13.26857142857143  Accuracy : 14.737142857142857  Accuracy : 16.754285714285714  Accuracy : 18.10857142857143  Accuracy : 20.62857142857143  Accuracy : 22.825714285714284  Accuracy : 25.52857142857143  Accuracy : 28.305714285714284  Accuracy : 31.35142857142857  Accuracy : 33.900000000000006  Accuracy : 37.31428571428572  Accuracy : 39.76571428571429  Accuracy : 42.60857142857143  Accuracy : 44.902857142857144  Accuracy : 47.42285714285715  Accuracy : 49.22285714285714  Accuracy : 51.40285714285714  Accuracy : 53.142857142857146  Accuracy : 55.151428571428575  Accuracy : 56.34571428571429  Accuracy : 57.885714285714286  Accuracy : 59.01714285714286  Accuracy : 60.07714285714286  Accuracy : 61.291428571428575  Accuracy : 62.31142857142857  Accuracy : 63.09714285714285  Accuracy : 63.90857142857143  Accuracy : 64.57142857142857  Accuracy : 65.50571428571429  Accuracy : 66.23142857142858  Accuracy : 67.09428571428572  Accuracy : 67.10857142857142  Accuracy : 68.22285714285714  Accuracy : 68.27142857142857  Accuracy : 69.05142857142857  Accuracy : 69.32285714285715  Accuracy : 69.51428571428572  Accuracy : 70.62  Accuracy : 70.87428571428572  Accuracy : 71.13142857142857  Accuracy : 71.72  Accuracy : 72.29142857142857  Accuracy : 72.97714285714287  Accuracy : 73.45428571428572  Accuracy : 73.73142857142857  Accuracy : 74.22571428571429  Accuracy : 74.41714285714286  Accuracy : 75.03999999999999  Accuracy : 75.49428571428571  Accuracy : 75.61714285714287  Accuracy : 75.94857142857143  Accuracy : 76.35142857142857  Accuracy : 76.58571428571429  Accuracy : 76.69142857142856  Accuracy : 77.00285714285714  Accuracy : 76.95142857142856  Accuracy : 77.49142857142857  Accuracy : 77.69142857142856  Accuracy : 77.78285714285714  Accuracy : 77.98571428571428  Accuracy : 78.16571428571429  Accuracy : 78.49428571428572  Accuracy : 78.39142857142856  Accuracy : 78.81142857142858  Accuracy : 78.91714285714285  Accuracy : 78.82000000000001  Accuracy : 79.21142857142857  Accuracy : 79.59428571428572  Accuracy : 79.41714285714285  Accuracy : 79.70285714285714  Accuracy : 79.74  Accuracy : 79.91142857142857  Accuracy : 80.06571428571428  Accuracy : 79.98857142857143  Accuracy : 80.16571428571429  Accuracy : 80.67142857142858  Accuracy : 80.54285714285714  Accuracy : 80.62285714285714  Accuracy : 81.35428571428571  Accuracy : 81.07428571428571  Accuracy : 81.33142857142857  Accuracy : 81.41428571428571  Accuracy : 81.52857142857142  Accuracy : 81.6542857142857  Accuracy : 81.76857142857142  Accuracy : 82.07714285714286  Accuracy : 81.87142857142857  Accuracy : 82.34285714285714  Accuracy : 82.00571428571428  Accuracy : 82.22571428571429  Accuracy : 82.30857142857143  Accuracy : 82.76285714285714  Accuracy : 82.85428571428571  Accuracy : 82.82571428571428  Accuracy : 83.00285714285714  Accuracy : 82.85714285714286  Accuracy : 83.08285714285715  Accuracy : 83.02857142857142  Accuracy : 83.12571428571428  Accuracy : 83.22  Accuracy : 83.40285714285714  Accuracy : 83.36285714285714  Accuracy : 83.50571428571428  Accuracy : 83.7  Accuracy : 83.56285714285714  Accuracy : 83.87428571428572  Accuracy : 83.89714285714285  Accuracy : 84.14571428571429  Accuracy : 84.2  Accuracy : 84.01428571428572  Accuracy : 84.37142857142858  Accuracy : 84.15142857142857  Accuracy : 84.38857142857142  Accuracy : 84.46000000000001  Accuracy : 84.55142857142857  Accuracy : 84.43428571428572  Accuracy : 84.64285714285714  Accuracy : 84.84  Accuracy : 84.95714285714286  Accuracy : 84.72  Accuracy : 85.02  Accuracy : 84.92857142857143  Accuracy : 85.06285714285714  Accuracy : 85.17142857142858  Accuracy : 85.20571428571428  Accuracy : 85.28571428571429  Accuracy : 85.2942857142857  Accuracy : 85.3  Accuracy : 85.46571428571428  Accuracy : 85.45428571428572  Accuracy : 85.52571428571429  Accuracy : 85.73714285714286  Accuracy : 85.56285714285714  Accuracy : 85.55428571428571  Accuracy : 85.7  Accuracy : 85.77714285714285  Accuracy : 85.6  Accuracy : 85.88857142857142  Accuracy : 85.86  Accuracy : 86.05714285714285  Accuracy : 85.91714285714286  Accuracy : 86.23142857142857  Accuracy : 86.16  Accuracy : 86.16  Accuracy : 86.0657142857143  Accuracy : 86.25142857142856  Accuracy : 86.31142857142858  Accuracy : 86.13428571428572  Accuracy : 86.30857142857143  Accuracy : 86.41428571428571  Accuracy : 86.33428571428571  Accuracy : 86.49428571428571  Accuracy : 86.75714285714285  Accuracy : 86.38  Accuracy : 86.69142857142857  Accuracy : 86.53428571428572  Accuracy : 86.85142857142857  Accuracy : 86.70285714285714  Accuracy : 86.66  Accuracy : 86.91142857142857  Accuracy : 86.92  Accuracy : 86.91142857142857  Accuracy : 86.98  Accuracy : 87.02285714285715  Accuracy : 87.02857142857144  Accuracy : 87.24857142857144  Accuracy : 87.04857142857144  Accuracy : 87.23428571428572  Accuracy : 87.07428571428572  Accuracy : 87.42571428571428  Accuracy : 87.03142857142858  Accuracy : 87.26857142857143  Accuracy : 87.30285714285714  Accuracy : 87.32571428571428  Accuracy : 87.36  Accuracy : 87.25714285714285  Accuracy : 87.46285714285715  Accuracy : 87.42285714285714  Accuracy : 87.76571428571428  Accuracy : 87.43714285714286  Accuracy : 87.5  Accuracy : 87.50571428571429  Accuracy : 87.62857142857143  Accuracy : 87.78  Accuracy : 87.59714285714286  Accuracy : 87.71142857142857  Accuracy : 87.70857142857142  Accuracy : 87.72571428571429  Accuracy : 87.60571428571428  Accuracy : 87.95428571428572  Accuracy : 87.84857142857143  Accuracy : 87.92  Accuracy : 88.02571428571429  Accuracy : 87.97428571428571  Accuracy : 87.88571428571429  Accuracy : 87.94  Accuracy : 88.15428571428572  Accuracy : 88.13142857142857  Accuracy : 88.32857142857144  Accuracy : 88.2342857142857  Accuracy : 88.04285714285714  Accuracy : 88.34857142857143  Accuracy : 88.32571428571428  Accuracy : 88.26  Accuracy : 88.2342857142857  Accuracy : 88.20857142857143  Accuracy : 88.17142857142856  Accuracy : 88.38857142857142  Accuracy : 88.49142857142857  Accuracy : 88.52857142857142  Accuracy : 88.57428571428572  Accuracy : 88.56571428571428  Accuracy : 88.56571428571428  Accuracy : 88.66000000000001  Accuracy : 88.67714285714285  Accuracy : 88.69714285714285  Accuracy : 88.51714285714286  Accuracy : 88.82857142857142  Accuracy : 88.71428571428571  Accuracy : 88.78285714285714  Accuracy : 88.42857142857142  Accuracy : 88.79428571428572  Accuracy : 88.82  Accuracy : 88.86571428571428  Accuracy : 88.86285714285714  Accuracy : 88.93714285714286  Accuracy : 88.96857142857144  Accuracy : 88.98285714285714  Accuracy : 88.87428571428572  Accuracy : 89.02857142857142  Accuracy : 88.99714285714285  Accuracy : 88.9342857142857  Accuracy : 88.92571428571429  Accuracy : 89.01142857142858  Accuracy : 89.08857142857143  Accuracy : 89.10285714285713  Accuracy : 89.07142857142857  Accuracy : 89.19142857142856  Accuracy : 89.06571428571428  Accuracy : 89.16285714285715  Accuracy : 89.2  Accuracy : 89.23142857142857  Accuracy : 89.13714285714286  Accuracy : 89.29428571428572  Accuracy : 89.30571428571429  Accuracy : 89.05999999999999  Accuracy : 89.29142857142857  Accuracy : 89.41428571428571  Accuracy : 89.32285714285715  Accuracy : 89.45142857142856  Accuracy : 89.33142857142857  Accuracy : 89.26857142857143  Accuracy : 89.34571428571428  Accuracy : 89.48857142857143  Accuracy : 89.52  Accuracy : 89.3  Accuracy : 89.49428571428571  Accuracy : 89.61714285714287  Accuracy : 89.52857142857142  Accuracy : 89.42  Accuracy : 89.48  Accuracy : 89.45428571428572  Accuracy : 89.52285714285713  Accuracy : 89.56285714285714  Accuracy : 89.68857142857144  Accuracy : 89.62571428571428  Accuracy : 89.64857142857143  Accuracy : 89.66571428571429  Accuracy : 89.69142857142856  Accuracy : 89.87714285714286  Accuracy : 89.63428571428571  Accuracy : 89.65714285714286  Accuracy : 89.8  Accuracy : 89.78285714285714  Accuracy : 89.71428571428571  Accuracy : 89.91142857142857  Accuracy : 89.84285714285714  Accuracy : 89.84  Accuracy : 90.13714285714286  Accuracy : 89.96  Accuracy : 89.9342857142857  Accuracy : 90.00571428571429  Accuracy : 89.84285714285714  Accuracy : 90.02  Accuracy : 90.02857142857142  Accuracy : 90.03428571428572  Accuracy : 90.06571428571428  Accuracy : 90.20857142857143  Accuracy : 90.07714285714286  Accuracy : 89.95714285714286  Accuracy : 90.20857142857143  Accuracy : 90.20857142857143  Accuracy : 90.26285714285714  Accuracy : 90.14285714285715 "
     ]
    }
   ],
   "source": [
    "#forward propagation\n",
    "for i in range(0,300):\n",
    "    \n",
    "    blayer=np.dot(thetaBA,alayer)+bBA\n",
    "    blayer=np.where(blayer<0,0,blayer)\n",
    "    d1=np.random.rand(blayer.shape[0],blayer.shape[1])  # Dropout Regularization\n",
    "    d1= (d1<keep_prob)                                  # Dropout Regularization\n",
    "    blayer=(blayer*d1)/(keep_prob)                      # Dropout Regularization\n",
    "    \n",
    "    clayer=np.dot(thetaCB,blayer)+bCB\n",
    "    clayer=np.where(clayer<0,0,clayer)\n",
    "    d2=np.random.rand(clayer.shape[0],clayer.shape[1])  # Dropout Regularization\n",
    "    d2= (d2<keep_prob)                                  # Dropout Regularization\n",
    "    clayer=(clayer*d2)/(keep_prob)                      # Dropout Regularization\n",
    "    \n",
    "    dlayer=1/(1+np.exp(-(np.dot(thetaDC,clayer)+bDC)))\n",
    "    #t=np.exp(np.dot(thetaDC,clayer)+bDC)\n",
    "    #dlayer=t/(np.sum(t,axis=0,keepdims=True))\n",
    "    \n",
    "    \n",
    "# backward propagation\n",
    "    deltaD = dlayer-y\n",
    "    dwDC = np.dot(deltaD,clayer.T)*(1/m)\n",
    "    dbDC = (1/m)*(np.sum(deltaD,axis=1,keepdims=True))\n",
    "\n",
    "    \n",
    "    vdw1 = (beta1*vdw1+(1-beta1)*dwDC)#/(1-(beta1**(i+1)))\n",
    "    sdw1 = (beta2*sdw1+(1-beta2)*(dwDC**2))#/(1-(beta2**(i+1)))\n",
    "    vdb1 = (beta1*vdb1+(1-beta1)*dbDC)#/(1-(beta1**(i+1)))\n",
    "    sdb1 = (beta2*sdb1+(1-beta2)*(dbDC**2))#/(1-(beta2**(i+1)))\n",
    "    \n",
    "    thetaDC = thetaDC - alpha*(vdw1/((np.sqrt(sdw1))+epsilon))\n",
    "    bDC = bDC - alpha*(vdb1/((np.sqrt(sdb1))+epsilon))\n",
    "    \n",
    "    A1 = np.dot(thetaDC.T,deltaD)\n",
    "    A1 = (A1*d2)/(keep_prob)\n",
    "    \n",
    "    deltaC = A1*(np.where(clayer>0,1,clayer))\n",
    "    \n",
    "    dwCB = np.dot(deltaC,blayer.T)*(1/m)\n",
    "    dbCB = (1/m)*(np.sum(deltaC,axis=1,keepdims=True))\n",
    "\n",
    "    \n",
    "    vdw2 = (beta1*vdw2+(1-beta1)*(dwCB))#/(1-(beta1**(i+1)))\n",
    "    sdw2 = (beta2*sdw2+(1-beta2)*(dwCB**2))#/(1-(beta2**(i+1)))\n",
    "    vdb2 = (beta1*vdb2+(1-beta1)*(dbCB))#/(1-(beta1**(i+1)))\n",
    "    sdb2 = (beta2*sdb2+(1-beta2)*(dbCB**2))#/(1-(beta2**(i+1)))\n",
    "    \n",
    "    thetaCB = thetaCB-alpha*(vdw2/((np.sqrt(sdw2))+epsilon))\n",
    "    bCB = bCB-alpha*(vdb2/((np.sqrt(sdb2))+epsilon))\n",
    "    \n",
    "    A2 = np.dot(thetaCB.T,deltaC)\n",
    "    A2 = (A2*d1)/(keep_prob)\n",
    "    \n",
    "    deltaB = A2*(np.where(blayer>0,1,blayer))\n",
    "    \n",
    "    dwBA = np.dot(deltaB,alayer.T)*(1/m)\n",
    "    dbBA = (1/m)*(np.sum(deltaB,axis=1,keepdims=True))\n",
    "\n",
    "    \n",
    "    vdw3 = (beta1*vdw3+(1-beta1)*(dwBA))#/(1-(beta1**(i+1)))\n",
    "    sdw3 = (beta2*sdw3+(1-beta2)*(dwBA**2))#/(1-(beta2**(i+1)))\n",
    "    vdb3 = (beta1*vdb3+(1-beta1)*(dbBA))#/(1-(beta1**(i+1)))\n",
    "    sdb3 = (beta2*sdb3+(1-beta2)*(dbBA**2))#/(1-(beta2**(i+1)))\n",
    "    \n",
    "    thetaBA = thetaBA-alpha*(vdw3/((np.sqrt(sdw3))+epsilon))\n",
    "    bBA = bBA-alpha*(vdb3/((np.sqrt(sdb3))+epsilon))\n",
    "    ac=accu(dlayer,y,m2)\n",
    "    print(' Accuracy : '+ str(ac),end=\" \")\n",
    "    "
   ]
  },
  {
   "cell_type": "markdown",
   "metadata": {},
   "source": [
    "# Test Accuracy"
   ]
  },
  {
   "cell_type": "code",
   "execution_count": 8,
   "metadata": {},
   "outputs": [
    {
     "name": "stdout",
     "output_type": "stream",
     "text": [
      "Test Accuracy: \n",
      "92.16428571428571\n"
     ]
    }
   ],
   "source": [
    "m4=0\n",
    "for i in range(0,42000):\n",
    "    alayer=np.array(x1[:,i]).reshape(784,1)\n",
    "    y_test=np.array(y1[:,i]).reshape(10,1)\n",
    "    blayer=np.dot(thetaBA,alayer)+bBA\n",
    "    blayer=np.where(blayer<0,0,blayer)\n",
    "    \n",
    "    clayer=np.dot(thetaCB,blayer)+bCB\n",
    "    clayer=np.where(clayer<0,0,clayer)\n",
    "    \n",
    "    dlayer=1/(1+np.exp(-(np.dot(thetaDC,clayer)+bDC)))\n",
    "          \n",
    "    ab=np.array(dlayer.argmax())\n",
    "    cd=np.array(y_test.argmax())\n",
    "    if(ab==cd):\n",
    "        m4=m4+1\n",
    "print('Test Accuracy: ')\n",
    "print((m4/42000)*100) "
   ]
  },
  {
   "cell_type": "code",
   "execution_count": null,
   "metadata": {},
   "outputs": [],
   "source": []
  }
 ],
 "metadata": {
  "kernelspec": {
   "display_name": "Python 3",
   "language": "python",
   "name": "python3"
  },
  "language_info": {
   "codemirror_mode": {
    "name": "ipython",
    "version": 3
   },
   "file_extension": ".py",
   "mimetype": "text/x-python",
   "name": "python",
   "nbconvert_exporter": "python",
   "pygments_lexer": "ipython3",
   "version": "3.7.4"
  }
 },
 "nbformat": 4,
 "nbformat_minor": 2
}
